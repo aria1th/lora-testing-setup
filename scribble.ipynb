{
 "cells": [
  {
   "cell_type": "code",
   "execution_count": null,
   "metadata": {},
   "outputs": [],
   "source": [
    "from library.webuiapi import WebUIApi, QueuedTaskResult, ControlNetUnit, raw_b64_img\n",
    "import os\n",
    "import json\n",
    "import requests\n",
    "import time\n",
    "from PIL import Image\n",
    "from threading import Thread"
   ]
  },
  {
   "cell_type": "code",
   "execution_count": null,
   "metadata": {},
   "outputs": [],
   "source": [
    "instance = WebUIApi(baseurl=\"http://127.0.0.1:9053/sdapi/v1\")\n",
    "instance.set_auth('whitefox', 'nowaifu')\n",
    "instance.get_sd_models()"
   ]
  },
  {
   "cell_type": "code",
   "execution_count": null,
   "metadata": {},
   "outputs": [],
   "source": [
    "instance.get_loras()"
   ]
  },
  {
   "cell_type": "code",
   "execution_count": null,
   "metadata": {},
   "outputs": [],
   "source": [
    "# if webui uploader extension is installed, you can upload files to the webui and request a download \n",
    "controlnet_models = instance.controlnet_model_list()\n",
    "if 'control_v11p_sd15_scribble [d4ba51ff]' not in controlnet_models:\n",
    "    instance.request_download_controlnets() # This will take a while\n",
    "    print(\"Downloading controlnets...\")\n",
    "else:\n",
    "    print(\"Scribble controlnet already downloaded\")\n",
    "    "
   ]
  },
  {
   "cell_type": "code",
   "execution_count": null,
   "metadata": {},
   "outputs": [],
   "source": [
    "controlnet_path = r\"C:\\Users\\Admin\\Downloads\\39.png\"\n",
    "#mask_path = r\"C:\\Users\\Admin\\Pictures\\mask.png\"\n",
    "\n",
    "from library.test_utils import open_controlnet_image, wait_for_result\n",
    "\n",
    "\n",
    "control_ref_img = open_controlnet_image(controlnet_path)\n",
    "controlnet_unit = ControlNetUnit(input_image=control_ref_img, module='none', model='control_v11p_sd15_openpose [cab727d4]')\n",
    "# for scribble, use 'control_v11p_sd15_scribble [d4ba51ff]'\n",
    "result = instance.txt2img_task(\n",
    "    enable_hr=True,\n",
    "    denoising_strength=0.5,\n",
    "    hr_scale=1.2,\n",
    "    prompt=\"1girl, masterpiece, character is haibara ai, blonde brown hair <lora:HAIBARA:1>\",\n",
    "    negative_prompt= \"nsfw, easynegative, blurry, noised, 3 legs, weird eyes, wrong eyes\",\n",
    "    controlnet_units=[controlnet_unit],\n",
    "    sampler_name='Euler a',\n",
    "    width=512,\n",
    "    height=512,\n",
    "    seed=1002    \n",
    ")"
   ]
  },
  {
   "cell_type": "code",
   "execution_count": null,
   "metadata": {},
   "outputs": [],
   "source": [
    "result_list = []\n",
    "wait_for_result(result, result_list=result_list)"
   ]
  },
  {
   "cell_type": "code",
   "execution_count": null,
   "metadata": {},
   "outputs": [],
   "source": [
    "result_list[0].get_image()"
   ]
  }
 ],
 "metadata": {
  "kernelspec": {
   "display_name": "Python 3",
   "language": "python",
   "name": "python3"
  },
  "language_info": {
   "codemirror_mode": {
    "name": "ipython",
    "version": 3
   },
   "file_extension": ".py",
   "mimetype": "text/x-python",
   "name": "python",
   "nbconvert_exporter": "python",
   "pygments_lexer": "ipython3",
   "version": "3.10.11"
  }
 },
 "nbformat": 4,
 "nbformat_minor": 2
}
