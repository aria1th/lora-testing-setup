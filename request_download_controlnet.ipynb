{
 "cells": [
  {
   "cell_type": "code",
   "execution_count": null,
   "metadata": {},
   "outputs": [],
   "source": [
    "from library.webuiapi import *\n",
    "\n",
    "webuiApi = WebUIApi(baseurl='https://webui-address/sdapi/v1')\n",
    "webuiApi.set_auth('username','password')\n",
    "\n",
    "webuiApi.request_download_controlnets() # this may make application hang, but it will be executed in server anyway\n"
   ]
  }
 ],
 "metadata": {
  "kernelspec": {
   "display_name": "Python 3",
   "language": "python",
   "name": "python3"
  },
  "language_info": {
   "codemirror_mode": {
    "name": "ipython",
    "version": 3
   },
   "file_extension": ".py",
   "mimetype": "text/x-python",
   "name": "python",
   "nbconvert_exporter": "python",
   "pygments_lexer": "ipython3",
   "version": "3.10.0"
  },
  "orig_nbformat": 4
 },
 "nbformat": 4,
 "nbformat_minor": 2
}
